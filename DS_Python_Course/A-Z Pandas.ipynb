{
 "cells": [
  {
   "cell_type": "code",
   "execution_count": 1,
   "metadata": {},
   "outputs": [],
   "source": [
    "import pandas as pd\n",
    "import numpy as np"
   ]
  },
  {
   "cell_type": "code",
   "execution_count": 2,
   "metadata": {},
   "outputs": [
    {
     "name": "stdout",
     "output_type": "stream",
     "text": [
      "Country\n",
      "China     11.9\n",
      "India     36.0\n",
      "Usa       16.6\n",
      "Brazil    21.8\n",
      "UK        34.2\n",
      "Name: Growth Rate, dtype: float64\n"
     ]
    }
   ],
   "source": [
    "srs = pd.Series([11.9, 36.0, 16.6, 21.8, 34.2], index = ['China', 'India', 'Usa', 'Brazil', 'UK'])\n",
    "srs.name = \"Growth Rate\"\n",
    "srs.index.name = \"Country\"\n",
    "srs.value = \"rate\"\n",
    "print(srs)"
   ]
  },
  {
   "cell_type": "code",
   "execution_count": 3,
   "metadata": {},
   "outputs": [
    {
     "name": "stdout",
     "output_type": "stream",
     "text": [
      "Country\n",
      "Africa          NaN\n",
      "Brazil     1.000000\n",
      "China      1.000000\n",
      "Germany         NaN\n",
      "India      1.000000\n",
      "UK              NaN\n",
      "Usa        1.031056\n",
      "Name: Res, dtype: float64\n"
     ]
    }
   ],
   "source": [
    "# Look that the ones who doesnt match is beacuse there is no index with that name in srs1\n",
    "srs1 = pd.Series([11.9, 36.0, 16.6, 21.8, 34.2], index = ['China', 'India', 'Usa', 'Brazil', 'UK'])\n",
    "srs2 = pd.Series([20.3, 11.9,36,16.1,21.8,34.2], index = ['Africa', 'China', 'India', 'Usa', 'Brazil', 'Germany'])\n",
    "srs = srs1/srs2\n",
    "srs.name = \"Res\"\n",
    "srs.index.name = \"Country\"\n",
    "print(srs)"
   ]
  },
  {
   "cell_type": "code",
   "execution_count": 4,
   "metadata": {},
   "outputs": [
    {
     "data": {
      "text/plain": [
       "Country\n",
       "Africa      True\n",
       "Brazil     False\n",
       "China      False\n",
       "Germany     True\n",
       "India      False\n",
       "UK          True\n",
       "Usa        False\n",
       "Name: Res, dtype: bool"
      ]
     },
     "execution_count": 4,
     "metadata": {},
     "output_type": "execute_result"
    }
   ],
   "source": [
    "pd.isnull(srs)"
   ]
  },
  {
   "cell_type": "code",
   "execution_count": 5,
   "metadata": {},
   "outputs": [
    {
     "data": {
      "text/plain": [
       "Country\n",
       "Africa     False\n",
       "Brazil      True\n",
       "China       True\n",
       "Germany    False\n",
       "India       True\n",
       "UK         False\n",
       "Usa         True\n",
       "Name: Res, dtype: bool"
      ]
     },
     "execution_count": 5,
     "metadata": {},
     "output_type": "execute_result"
    }
   ],
   "source": [
    "pd.notnull(srs)"
   ]
  },
  {
   "cell_type": "code",
   "execution_count": 6,
   "metadata": {},
   "outputs": [
    {
     "name": "stdout",
     "output_type": "stream",
     "text": [
      "Country\n",
      "Brazil    1.0\n",
      "China     1.0\n",
      "India     1.0\n",
      "Name: Res, dtype: float64\n"
     ]
    }
   ],
   "source": [
    "#indexes that satisfies some conditions\n",
    "print(srs[srs== 1.0])"
   ]
  },
  {
   "cell_type": "code",
   "execution_count": 7,
   "metadata": {},
   "outputs": [
    {
     "name": "stdout",
     "output_type": "stream",
     "text": [
      "Country\n",
      "Africa          NaN\n",
      "Germany         NaN\n",
      "UK              NaN\n",
      "Usa        1.031056\n",
      "Name: Res, dtype: float64\n"
     ]
    }
   ],
   "source": [
    "#indexes that satisfies some conditions\n",
    "print(srs[srs!= 1.0])"
   ]
  },
  {
   "cell_type": "code",
   "execution_count": 8,
   "metadata": {},
   "outputs": [
    {
     "data": {
      "text/html": [
       "<div>\n",
       "<style scoped>\n",
       "    .dataframe tbody tr th:only-of-type {\n",
       "        vertical-align: middle;\n",
       "    }\n",
       "\n",
       "    .dataframe tbody tr th {\n",
       "        vertical-align: top;\n",
       "    }\n",
       "\n",
       "    .dataframe thead th {\n",
       "        text-align: right;\n",
       "    }\n",
       "</style>\n",
       "<table border=\"1\" class=\"dataframe\">\n",
       "  <thead>\n",
       "    <tr style=\"text-align: right;\">\n",
       "      <th></th>\n",
       "      <th>Sex</th>\n",
       "      <th>Under 1</th>\n",
       "      <th>1-4</th>\n",
       "      <th>5-9</th>\n",
       "      <th>10-14</th>\n",
       "      <th>15-19</th>\n",
       "      <th>20-24</th>\n",
       "      <th>25-29</th>\n",
       "      <th>30-34</th>\n",
       "      <th>35-39</th>\n",
       "      <th>40-44</th>\n",
       "    </tr>\n",
       "  </thead>\n",
       "  <tbody>\n",
       "    <tr>\n",
       "      <th>0</th>\n",
       "      <td>Males</td>\n",
       "      <td>82</td>\n",
       "      <td>305</td>\n",
       "      <td>199</td>\n",
       "      <td>197</td>\n",
       "      <td>322</td>\n",
       "      <td>537</td>\n",
       "      <td>910</td>\n",
       "      <td>1239</td>\n",
       "      <td>1610</td>\n",
       "      <td>2045</td>\n",
       "    </tr>\n",
       "    <tr>\n",
       "      <th>1</th>\n",
       "      <td>Females</td>\n",
       "      <td>73</td>\n",
       "      <td>249</td>\n",
       "      <td>171</td>\n",
       "      <td>183</td>\n",
       "      <td>297</td>\n",
       "      <td>554</td>\n",
       "      <td>1341</td>\n",
       "      <td>2219</td>\n",
       "      <td>3085</td>\n",
       "      <td>4457</td>\n",
       "    </tr>\n",
       "    <tr>\n",
       "      <th>2</th>\n",
       "      <td>Males</td>\n",
       "      <td>0</td>\n",
       "      <td>0</td>\n",
       "      <td>1</td>\n",
       "      <td>4</td>\n",
       "      <td>10</td>\n",
       "      <td>7</td>\n",
       "      <td>17</td>\n",
       "      <td>30</td>\n",
       "      <td>67</td>\n",
       "      <td>139</td>\n",
       "    </tr>\n",
       "    <tr>\n",
       "      <th>3</th>\n",
       "      <td>Females</td>\n",
       "      <td>0</td>\n",
       "      <td>1</td>\n",
       "      <td>0</td>\n",
       "      <td>5</td>\n",
       "      <td>8</td>\n",
       "      <td>8</td>\n",
       "      <td>12</td>\n",
       "      <td>29</td>\n",
       "      <td>53</td>\n",
       "      <td>81</td>\n",
       "    </tr>\n",
       "    <tr>\n",
       "      <th>4</th>\n",
       "      <td>Males</td>\n",
       "      <td>0</td>\n",
       "      <td>0</td>\n",
       "      <td>0</td>\n",
       "      <td>0</td>\n",
       "      <td>0</td>\n",
       "      <td>0</td>\n",
       "      <td>1</td>\n",
       "      <td>1</td>\n",
       "      <td>1</td>\n",
       "      <td>2</td>\n",
       "    </tr>\n",
       "    <tr>\n",
       "      <th>...</th>\n",
       "      <td>...</td>\n",
       "      <td>...</td>\n",
       "      <td>...</td>\n",
       "      <td>...</td>\n",
       "      <td>...</td>\n",
       "      <td>...</td>\n",
       "      <td>...</td>\n",
       "      <td>...</td>\n",
       "      <td>...</td>\n",
       "      <td>...</td>\n",
       "      <td>...</td>\n",
       "    </tr>\n",
       "    <tr>\n",
       "      <th>453</th>\n",
       "      <td>Females</td>\n",
       "      <td>1</td>\n",
       "      <td>0</td>\n",
       "      <td>0</td>\n",
       "      <td>1</td>\n",
       "      <td>1</td>\n",
       "      <td>1</td>\n",
       "      <td>2</td>\n",
       "      <td>2</td>\n",
       "      <td>0</td>\n",
       "      <td>0</td>\n",
       "    </tr>\n",
       "    <tr>\n",
       "      <th>454</th>\n",
       "      <td>Males</td>\n",
       "      <td>6</td>\n",
       "      <td>41</td>\n",
       "      <td>50</td>\n",
       "      <td>31</td>\n",
       "      <td>61</td>\n",
       "      <td>62</td>\n",
       "      <td>115</td>\n",
       "      <td>165</td>\n",
       "      <td>318</td>\n",
       "      <td>565</td>\n",
       "    </tr>\n",
       "    <tr>\n",
       "      <th>455</th>\n",
       "      <td>Females</td>\n",
       "      <td>8</td>\n",
       "      <td>24</td>\n",
       "      <td>37</td>\n",
       "      <td>32</td>\n",
       "      <td>40</td>\n",
       "      <td>43</td>\n",
       "      <td>104</td>\n",
       "      <td>227</td>\n",
       "      <td>443</td>\n",
       "      <td>705</td>\n",
       "    </tr>\n",
       "    <tr>\n",
       "      <th>456</th>\n",
       "      <td>Males</td>\n",
       "      <td>3</td>\n",
       "      <td>38</td>\n",
       "      <td>49</td>\n",
       "      <td>27</td>\n",
       "      <td>57</td>\n",
       "      <td>60</td>\n",
       "      <td>112</td>\n",
       "      <td>161</td>\n",
       "      <td>315</td>\n",
       "      <td>545</td>\n",
       "    </tr>\n",
       "    <tr>\n",
       "      <th>457</th>\n",
       "      <td>Females</td>\n",
       "      <td>7</td>\n",
       "      <td>22</td>\n",
       "      <td>36</td>\n",
       "      <td>30</td>\n",
       "      <td>38</td>\n",
       "      <td>41</td>\n",
       "      <td>96</td>\n",
       "      <td>221</td>\n",
       "      <td>436</td>\n",
       "      <td>693</td>\n",
       "    </tr>\n",
       "  </tbody>\n",
       "</table>\n",
       "<p>458 rows × 11 columns</p>\n",
       "</div>"
      ],
      "text/plain": [
       "         Sex  Under 1  1-4  5-9  10-14  15-19  20-24  25-29  30-34  35-39  \\\n",
       "0      Males       82  305  199    197    322    537    910   1239   1610   \n",
       "1    Females       73  249  171    183    297    554   1341   2219   3085   \n",
       "2      Males        0    0    1      4     10      7     17     30     67   \n",
       "3    Females        0    1    0      5      8      8     12     29     53   \n",
       "4      Males        0    0    0      0      0      0      1      1      1   \n",
       "..       ...      ...  ...  ...    ...    ...    ...    ...    ...    ...   \n",
       "453  Females        1    0    0      1      1      1      2      2      0   \n",
       "454    Males        6   41   50     31     61     62    115    165    318   \n",
       "455  Females        8   24   37     32     40     43    104    227    443   \n",
       "456    Males        3   38   49     27     57     60    112    161    315   \n",
       "457  Females        7   22   36     30     38     41     96    221    436   \n",
       "\n",
       "     40-44  \n",
       "0     2045  \n",
       "1     4457  \n",
       "2      139  \n",
       "3       81  \n",
       "4        2  \n",
       "..     ...  \n",
       "453      0  \n",
       "454    565  \n",
       "455    705  \n",
       "456    545  \n",
       "457    693  \n",
       "\n",
       "[458 rows x 11 columns]"
      ]
     },
     "execution_count": 8,
     "metadata": {},
     "output_type": "execute_result"
    }
   ],
   "source": [
    "df = pd.read_csv('cancer_stats.csv')\n",
    "df"
   ]
  },
  {
   "cell_type": "code",
   "execution_count": 9,
   "metadata": {},
   "outputs": [
    {
     "name": "stdout",
     "output_type": "stream",
     "text": [
      "       Sex  Under 1  1-4  5-9  10-14  15-19  20-24  25-29  30-34  35-39  40-44\n",
      "0    Males       82  305  199    197    322    537    910   1239   1610   2045\n",
      "1  Females       73  249  171    183    297    554   1341   2219   3085   4457\n",
      "2    Males        0    0    1      4     10      7     17     30     67    139\n",
      "3  Females        0    1    0      5      8      8     12     29     53     81\n",
      "4    Males        0    0    0      0      0      0      1      1      1      2\n"
     ]
    }
   ],
   "source": [
    "print(df.head()) #Gives me the first five rows"
   ]
  },
  {
   "cell_type": "code",
   "execution_count": 10,
   "metadata": {},
   "outputs": [
    {
     "data": {
      "text/html": [
       "<div>\n",
       "<style scoped>\n",
       "    .dataframe tbody tr th:only-of-type {\n",
       "        vertical-align: middle;\n",
       "    }\n",
       "\n",
       "    .dataframe tbody tr th {\n",
       "        vertical-align: top;\n",
       "    }\n",
       "\n",
       "    .dataframe thead th {\n",
       "        text-align: right;\n",
       "    }\n",
       "</style>\n",
       "<table border=\"1\" class=\"dataframe\">\n",
       "  <thead>\n",
       "    <tr style=\"text-align: right;\">\n",
       "      <th></th>\n",
       "      <th>Sex</th>\n",
       "      <th>Under 1</th>\n",
       "      <th>1-4</th>\n",
       "      <th>5-9</th>\n",
       "      <th>10-14</th>\n",
       "      <th>15-19</th>\n",
       "      <th>20-24</th>\n",
       "      <th>25-29</th>\n",
       "      <th>30-34</th>\n",
       "      <th>35-39</th>\n",
       "      <th>40-44</th>\n",
       "    </tr>\n",
       "  </thead>\n",
       "  <tbody>\n",
       "    <tr>\n",
       "      <th>453</th>\n",
       "      <td>Females</td>\n",
       "      <td>1</td>\n",
       "      <td>0</td>\n",
       "      <td>0</td>\n",
       "      <td>1</td>\n",
       "      <td>1</td>\n",
       "      <td>1</td>\n",
       "      <td>2</td>\n",
       "      <td>2</td>\n",
       "      <td>0</td>\n",
       "      <td>0</td>\n",
       "    </tr>\n",
       "    <tr>\n",
       "      <th>454</th>\n",
       "      <td>Males</td>\n",
       "      <td>6</td>\n",
       "      <td>41</td>\n",
       "      <td>50</td>\n",
       "      <td>31</td>\n",
       "      <td>61</td>\n",
       "      <td>62</td>\n",
       "      <td>115</td>\n",
       "      <td>165</td>\n",
       "      <td>318</td>\n",
       "      <td>565</td>\n",
       "    </tr>\n",
       "    <tr>\n",
       "      <th>455</th>\n",
       "      <td>Females</td>\n",
       "      <td>8</td>\n",
       "      <td>24</td>\n",
       "      <td>37</td>\n",
       "      <td>32</td>\n",
       "      <td>40</td>\n",
       "      <td>43</td>\n",
       "      <td>104</td>\n",
       "      <td>227</td>\n",
       "      <td>443</td>\n",
       "      <td>705</td>\n",
       "    </tr>\n",
       "    <tr>\n",
       "      <th>456</th>\n",
       "      <td>Males</td>\n",
       "      <td>3</td>\n",
       "      <td>38</td>\n",
       "      <td>49</td>\n",
       "      <td>27</td>\n",
       "      <td>57</td>\n",
       "      <td>60</td>\n",
       "      <td>112</td>\n",
       "      <td>161</td>\n",
       "      <td>315</td>\n",
       "      <td>545</td>\n",
       "    </tr>\n",
       "    <tr>\n",
       "      <th>457</th>\n",
       "      <td>Females</td>\n",
       "      <td>7</td>\n",
       "      <td>22</td>\n",
       "      <td>36</td>\n",
       "      <td>30</td>\n",
       "      <td>38</td>\n",
       "      <td>41</td>\n",
       "      <td>96</td>\n",
       "      <td>221</td>\n",
       "      <td>436</td>\n",
       "      <td>693</td>\n",
       "    </tr>\n",
       "  </tbody>\n",
       "</table>\n",
       "</div>"
      ],
      "text/plain": [
       "         Sex  Under 1  1-4  5-9  10-14  15-19  20-24  25-29  30-34  35-39  \\\n",
       "453  Females        1    0    0      1      1      1      2      2      0   \n",
       "454    Males        6   41   50     31     61     62    115    165    318   \n",
       "455  Females        8   24   37     32     40     43    104    227    443   \n",
       "456    Males        3   38   49     27     57     60    112    161    315   \n",
       "457  Females        7   22   36     30     38     41     96    221    436   \n",
       "\n",
       "     40-44  \n",
       "453      0  \n",
       "454    565  \n",
       "455    705  \n",
       "456    545  \n",
       "457    693  "
      ]
     },
     "execution_count": 10,
     "metadata": {},
     "output_type": "execute_result"
    }
   ],
   "source": [
    "df.tail() #Gives me the last five rows"
   ]
  },
  {
   "cell_type": "code",
   "execution_count": 11,
   "metadata": {},
   "outputs": [
    {
     "name": "stdout",
     "output_type": "stream",
     "text": [
      "Index(['Sex', 'Under 1', '1-4', '5-9', '10-14', '15-19', '20-24', '25-29',\n",
      "       '30-34', '35-39', '40-44'],\n",
      "      dtype='object')\n"
     ]
    }
   ],
   "source": [
    "# Accesing columns\n",
    "print(df.columns)"
   ]
  },
  {
   "cell_type": "code",
   "execution_count": 12,
   "metadata": {},
   "outputs": [
    {
     "name": "stdout",
     "output_type": "stream",
     "text": [
      "0      Males\n",
      "1    Females\n",
      "2      Males\n",
      "3    Females\n",
      "4      Males\n",
      "Name: Sex, dtype: object\n"
     ]
    }
   ],
   "source": [
    "print(df['Sex'].head())"
   ]
  },
  {
   "cell_type": "code",
   "execution_count": 13,
   "metadata": {},
   "outputs": [
    {
     "name": "stdout",
     "output_type": "stream",
     "text": [
      "\n",
      "The type of this column is: <class 'pandas.core.series.Series'>\n",
      "\n"
     ]
    }
   ],
   "source": [
    "print(\"\\nThe type of this column is: \" + str(type(df['Sex'])) + \"\\n\")"
   ]
  },
  {
   "cell_type": "code",
   "execution_count": 14,
   "metadata": {},
   "outputs": [
    {
     "name": "stdout",
     "output_type": "stream",
     "text": [
      "\n",
      "The Last Column \n",
      "\n",
      "0    2045\n",
      "1    4457\n",
      "2     139\n",
      "3      81\n",
      "4       2\n",
      "Name: 40-44, dtype: int64\n",
      "\n",
      "The type of this column is: <class 'pandas.core.series.Series'>\n",
      "\n"
     ]
    }
   ],
   "source": [
    "print(\"\\nThe Last Column \\n\")\n",
    "print(df['40-44'].head())\n",
    "print(\"\\nThe type of this column is: \" + str(type(df['40-44'])) + \"\\n\")"
   ]
  },
  {
   "cell_type": "code",
   "execution_count": 15,
   "metadata": {},
   "outputs": [
    {
     "data": {
      "text/html": [
       "<div>\n",
       "<style scoped>\n",
       "    .dataframe tbody tr th:only-of-type {\n",
       "        vertical-align: middle;\n",
       "    }\n",
       "\n",
       "    .dataframe tbody tr th {\n",
       "        vertical-align: top;\n",
       "    }\n",
       "\n",
       "    .dataframe thead th {\n",
       "        text-align: right;\n",
       "    }\n",
       "</style>\n",
       "<table border=\"1\" class=\"dataframe\">\n",
       "  <thead>\n",
       "    <tr style=\"text-align: right;\">\n",
       "      <th></th>\n",
       "      <th>Sex</th>\n",
       "      <th>Under 1</th>\n",
       "      <th>40-44</th>\n",
       "    </tr>\n",
       "  </thead>\n",
       "  <tbody>\n",
       "    <tr>\n",
       "      <th>0</th>\n",
       "      <td>Males</td>\n",
       "      <td>82</td>\n",
       "      <td>2045</td>\n",
       "    </tr>\n",
       "    <tr>\n",
       "      <th>1</th>\n",
       "      <td>Females</td>\n",
       "      <td>73</td>\n",
       "      <td>4457</td>\n",
       "    </tr>\n",
       "    <tr>\n",
       "      <th>2</th>\n",
       "      <td>Males</td>\n",
       "      <td>0</td>\n",
       "      <td>139</td>\n",
       "    </tr>\n",
       "    <tr>\n",
       "      <th>3</th>\n",
       "      <td>Females</td>\n",
       "      <td>0</td>\n",
       "      <td>81</td>\n",
       "    </tr>\n",
       "    <tr>\n",
       "      <th>4</th>\n",
       "      <td>Males</td>\n",
       "      <td>0</td>\n",
       "      <td>2</td>\n",
       "    </tr>\n",
       "  </tbody>\n",
       "</table>\n",
       "</div>"
      ],
      "text/plain": [
       "       Sex  Under 1  40-44\n",
       "0    Males       82   2045\n",
       "1  Females       73   4457\n",
       "2    Males        0    139\n",
       "3  Females        0     81\n",
       "4    Males        0      2"
      ]
     },
     "execution_count": 15,
     "metadata": {},
     "output_type": "execute_result"
    }
   ],
   "source": [
    "new_df = pd.DataFrame(df, columns=['Sex', 'Under 1', '40-44'])\n",
    "new_df.head()"
   ]
  },
  {
   "cell_type": "code",
   "execution_count": 16,
   "metadata": {},
   "outputs": [
    {
     "name": "stdout",
     "output_type": "stream",
     "text": [
      "Sex        Males\n",
      "Under 1       82\n",
      "1-4          305\n",
      "5-9          199\n",
      "10-14        197\n",
      "15-19        322\n",
      "20-24        537\n",
      "25-29        910\n",
      "30-34       1239\n",
      "35-39       1610\n",
      "40-44       2045\n",
      "Name: 0, dtype: object\n"
     ]
    }
   ],
   "source": [
    "#Access rows\n",
    "print(df.loc[0]) #1st row"
   ]
  },
  {
   "cell_type": "code",
   "execution_count": 17,
   "metadata": {},
   "outputs": [
    {
     "name": "stdout",
     "output_type": "stream",
     "text": [
      "Sex        Females\n",
      "Under 1         73\n",
      "1-4            249\n",
      "5-9            171\n",
      "10-14          183\n",
      "15-19          297\n",
      "20-24          554\n",
      "25-29         1341\n",
      "30-34         2219\n",
      "35-39         3085\n",
      "40-44         4457\n",
      "Name: 1, dtype: object\n"
     ]
    }
   ],
   "source": [
    "#Access rows\n",
    "print(df.loc[1]) #2nd row"
   ]
  },
  {
   "cell_type": "code",
   "execution_count": 18,
   "metadata": {},
   "outputs": [
    {
     "data": {
      "text/html": [
       "<div>\n",
       "<style scoped>\n",
       "    .dataframe tbody tr th:only-of-type {\n",
       "        vertical-align: middle;\n",
       "    }\n",
       "\n",
       "    .dataframe tbody tr th {\n",
       "        vertical-align: top;\n",
       "    }\n",
       "\n",
       "    .dataframe thead th {\n",
       "        text-align: right;\n",
       "    }\n",
       "</style>\n",
       "<table border=\"1\" class=\"dataframe\">\n",
       "  <thead>\n",
       "    <tr style=\"text-align: right;\">\n",
       "      <th></th>\n",
       "      <th>Sex</th>\n",
       "      <th>Under 1</th>\n",
       "      <th>1-4</th>\n",
       "      <th>5-9</th>\n",
       "      <th>10-14</th>\n",
       "      <th>15-19</th>\n",
       "      <th>20-24</th>\n",
       "      <th>25-29</th>\n",
       "      <th>30-34</th>\n",
       "      <th>35-39</th>\n",
       "      <th>40-44</th>\n",
       "    </tr>\n",
       "  </thead>\n",
       "  <tbody>\n",
       "    <tr>\n",
       "      <th>0</th>\n",
       "      <td>Males</td>\n",
       "      <td>82</td>\n",
       "      <td>305</td>\n",
       "      <td>199</td>\n",
       "      <td>197</td>\n",
       "      <td>322</td>\n",
       "      <td>537</td>\n",
       "      <td>910</td>\n",
       "      <td>1239</td>\n",
       "      <td>1610</td>\n",
       "      <td>2045</td>\n",
       "    </tr>\n",
       "    <tr>\n",
       "      <th>1</th>\n",
       "      <td>Females</td>\n",
       "      <td>73</td>\n",
       "      <td>249</td>\n",
       "      <td>171</td>\n",
       "      <td>183</td>\n",
       "      <td>297</td>\n",
       "      <td>554</td>\n",
       "      <td>1341</td>\n",
       "      <td>2219</td>\n",
       "      <td>3085</td>\n",
       "      <td>4457</td>\n",
       "    </tr>\n",
       "    <tr>\n",
       "      <th>2</th>\n",
       "      <td>Males</td>\n",
       "      <td>0</td>\n",
       "      <td>0</td>\n",
       "      <td>1</td>\n",
       "      <td>4</td>\n",
       "      <td>10</td>\n",
       "      <td>7</td>\n",
       "      <td>17</td>\n",
       "      <td>30</td>\n",
       "      <td>67</td>\n",
       "      <td>139</td>\n",
       "    </tr>\n",
       "    <tr>\n",
       "      <th>3</th>\n",
       "      <td>Females</td>\n",
       "      <td>0</td>\n",
       "      <td>1</td>\n",
       "      <td>0</td>\n",
       "      <td>5</td>\n",
       "      <td>8</td>\n",
       "      <td>8</td>\n",
       "      <td>12</td>\n",
       "      <td>29</td>\n",
       "      <td>53</td>\n",
       "      <td>81</td>\n",
       "    </tr>\n",
       "    <tr>\n",
       "      <th>4</th>\n",
       "      <td>Males</td>\n",
       "      <td>0</td>\n",
       "      <td>0</td>\n",
       "      <td>0</td>\n",
       "      <td>0</td>\n",
       "      <td>0</td>\n",
       "      <td>0</td>\n",
       "      <td>1</td>\n",
       "      <td>1</td>\n",
       "      <td>1</td>\n",
       "      <td>2</td>\n",
       "    </tr>\n",
       "    <tr>\n",
       "      <th>...</th>\n",
       "      <td>...</td>\n",
       "      <td>...</td>\n",
       "      <td>...</td>\n",
       "      <td>...</td>\n",
       "      <td>...</td>\n",
       "      <td>...</td>\n",
       "      <td>...</td>\n",
       "      <td>...</td>\n",
       "      <td>...</td>\n",
       "      <td>...</td>\n",
       "      <td>...</td>\n",
       "    </tr>\n",
       "    <tr>\n",
       "      <th>453</th>\n",
       "      <td>Females</td>\n",
       "      <td>1</td>\n",
       "      <td>0</td>\n",
       "      <td>0</td>\n",
       "      <td>1</td>\n",
       "      <td>1</td>\n",
       "      <td>1</td>\n",
       "      <td>2</td>\n",
       "      <td>2</td>\n",
       "      <td>0</td>\n",
       "      <td>0</td>\n",
       "    </tr>\n",
       "    <tr>\n",
       "      <th>454</th>\n",
       "      <td>Males</td>\n",
       "      <td>6</td>\n",
       "      <td>41</td>\n",
       "      <td>50</td>\n",
       "      <td>31</td>\n",
       "      <td>61</td>\n",
       "      <td>62</td>\n",
       "      <td>115</td>\n",
       "      <td>165</td>\n",
       "      <td>318</td>\n",
       "      <td>565</td>\n",
       "    </tr>\n",
       "    <tr>\n",
       "      <th>455</th>\n",
       "      <td>Females</td>\n",
       "      <td>8</td>\n",
       "      <td>24</td>\n",
       "      <td>37</td>\n",
       "      <td>32</td>\n",
       "      <td>40</td>\n",
       "      <td>43</td>\n",
       "      <td>104</td>\n",
       "      <td>227</td>\n",
       "      <td>443</td>\n",
       "      <td>705</td>\n",
       "    </tr>\n",
       "    <tr>\n",
       "      <th>456</th>\n",
       "      <td>Males</td>\n",
       "      <td>3</td>\n",
       "      <td>38</td>\n",
       "      <td>49</td>\n",
       "      <td>27</td>\n",
       "      <td>57</td>\n",
       "      <td>60</td>\n",
       "      <td>112</td>\n",
       "      <td>161</td>\n",
       "      <td>315</td>\n",
       "      <td>545</td>\n",
       "    </tr>\n",
       "    <tr>\n",
       "      <th>457</th>\n",
       "      <td>Females</td>\n",
       "      <td>7</td>\n",
       "      <td>22</td>\n",
       "      <td>36</td>\n",
       "      <td>30</td>\n",
       "      <td>38</td>\n",
       "      <td>41</td>\n",
       "      <td>96</td>\n",
       "      <td>221</td>\n",
       "      <td>436</td>\n",
       "      <td>693</td>\n",
       "    </tr>\n",
       "  </tbody>\n",
       "</table>\n",
       "<p>458 rows × 11 columns</p>\n",
       "</div>"
      ],
      "text/plain": [
       "         Sex  Under 1  1-4  5-9  10-14  15-19  20-24  25-29  30-34  35-39  \\\n",
       "0      Males       82  305  199    197    322    537    910   1239   1610   \n",
       "1    Females       73  249  171    183    297    554   1341   2219   3085   \n",
       "2      Males        0    0    1      4     10      7     17     30     67   \n",
       "3    Females        0    1    0      5      8      8     12     29     53   \n",
       "4      Males        0    0    0      0      0      0      1      1      1   \n",
       "..       ...      ...  ...  ...    ...    ...    ...    ...    ...    ...   \n",
       "453  Females        1    0    0      1      1      1      2      2      0   \n",
       "454    Males        6   41   50     31     61     62    115    165    318   \n",
       "455  Females        8   24   37     32     40     43    104    227    443   \n",
       "456    Males        3   38   49     27     57     60    112    161    315   \n",
       "457  Females        7   22   36     30     38     41     96    221    436   \n",
       "\n",
       "     40-44  \n",
       "0     2045  \n",
       "1     4457  \n",
       "2      139  \n",
       "3       81  \n",
       "4        2  \n",
       "..     ...  \n",
       "453      0  \n",
       "454    565  \n",
       "455    705  \n",
       "456    545  \n",
       "457    693  \n",
       "\n",
       "[458 rows x 11 columns]"
      ]
     },
     "execution_count": 18,
     "metadata": {},
     "output_type": "execute_result"
    }
   ],
   "source": [
    "df"
   ]
  },
  {
   "cell_type": "code",
   "execution_count": 19,
   "metadata": {},
   "outputs": [
    {
     "data": {
      "text/html": [
       "<div>\n",
       "<style scoped>\n",
       "    .dataframe tbody tr th:only-of-type {\n",
       "        vertical-align: middle;\n",
       "    }\n",
       "\n",
       "    .dataframe tbody tr th {\n",
       "        vertical-align: top;\n",
       "    }\n",
       "\n",
       "    .dataframe thead th {\n",
       "        text-align: right;\n",
       "    }\n",
       "</style>\n",
       "<table border=\"1\" class=\"dataframe\">\n",
       "  <thead>\n",
       "    <tr style=\"text-align: right;\">\n",
       "      <th></th>\n",
       "      <th>Sex</th>\n",
       "      <th>Under 1</th>\n",
       "      <th>40-44</th>\n",
       "      <th>Disease</th>\n",
       "    </tr>\n",
       "  </thead>\n",
       "  <tbody>\n",
       "    <tr>\n",
       "      <th>0</th>\n",
       "      <td>Males</td>\n",
       "      <td>82</td>\n",
       "      <td>2045</td>\n",
       "      <td>NaN</td>\n",
       "    </tr>\n",
       "    <tr>\n",
       "      <th>1</th>\n",
       "      <td>Females</td>\n",
       "      <td>73</td>\n",
       "      <td>4457</td>\n",
       "      <td>NaN</td>\n",
       "    </tr>\n",
       "    <tr>\n",
       "      <th>2</th>\n",
       "      <td>Males</td>\n",
       "      <td>0</td>\n",
       "      <td>139</td>\n",
       "      <td>NaN</td>\n",
       "    </tr>\n",
       "    <tr>\n",
       "      <th>3</th>\n",
       "      <td>Females</td>\n",
       "      <td>0</td>\n",
       "      <td>81</td>\n",
       "      <td>NaN</td>\n",
       "    </tr>\n",
       "    <tr>\n",
       "      <th>4</th>\n",
       "      <td>Males</td>\n",
       "      <td>0</td>\n",
       "      <td>2</td>\n",
       "      <td>NaN</td>\n",
       "    </tr>\n",
       "    <tr>\n",
       "      <th>...</th>\n",
       "      <td>...</td>\n",
       "      <td>...</td>\n",
       "      <td>...</td>\n",
       "      <td>...</td>\n",
       "    </tr>\n",
       "    <tr>\n",
       "      <th>453</th>\n",
       "      <td>Females</td>\n",
       "      <td>1</td>\n",
       "      <td>0</td>\n",
       "      <td>NaN</td>\n",
       "    </tr>\n",
       "    <tr>\n",
       "      <th>454</th>\n",
       "      <td>Males</td>\n",
       "      <td>6</td>\n",
       "      <td>565</td>\n",
       "      <td>NaN</td>\n",
       "    </tr>\n",
       "    <tr>\n",
       "      <th>455</th>\n",
       "      <td>Females</td>\n",
       "      <td>8</td>\n",
       "      <td>705</td>\n",
       "      <td>NaN</td>\n",
       "    </tr>\n",
       "    <tr>\n",
       "      <th>456</th>\n",
       "      <td>Males</td>\n",
       "      <td>3</td>\n",
       "      <td>545</td>\n",
       "      <td>NaN</td>\n",
       "    </tr>\n",
       "    <tr>\n",
       "      <th>457</th>\n",
       "      <td>Females</td>\n",
       "      <td>7</td>\n",
       "      <td>693</td>\n",
       "      <td>NaN</td>\n",
       "    </tr>\n",
       "  </tbody>\n",
       "</table>\n",
       "<p>458 rows × 4 columns</p>\n",
       "</div>"
      ],
      "text/plain": [
       "         Sex  Under 1  40-44  Disease\n",
       "0      Males       82   2045      NaN\n",
       "1    Females       73   4457      NaN\n",
       "2      Males        0    139      NaN\n",
       "3    Females        0     81      NaN\n",
       "4      Males        0      2      NaN\n",
       "..       ...      ...    ...      ...\n",
       "453  Females        1      0      NaN\n",
       "454    Males        6    565      NaN\n",
       "455  Females        8    705      NaN\n",
       "456    Males        3    545      NaN\n",
       "457  Females        7    693      NaN\n",
       "\n",
       "[458 rows x 4 columns]"
      ]
     },
     "execution_count": 19,
     "metadata": {},
     "output_type": "execute_result"
    }
   ],
   "source": [
    "# adding column\n",
    "new_df = pd.DataFrame(df, columns= ['Sex', 'Under 1', '40-44', 'Disease']) #The last column is the new one\n",
    "new_df"
   ]
  },
  {
   "cell_type": "code",
   "execution_count": 20,
   "metadata": {},
   "outputs": [
    {
     "data": {
      "text/html": [
       "<div>\n",
       "<style scoped>\n",
       "    .dataframe tbody tr th:only-of-type {\n",
       "        vertical-align: middle;\n",
       "    }\n",
       "\n",
       "    .dataframe tbody tr th {\n",
       "        vertical-align: top;\n",
       "    }\n",
       "\n",
       "    .dataframe thead th {\n",
       "        text-align: right;\n",
       "    }\n",
       "</style>\n",
       "<table border=\"1\" class=\"dataframe\">\n",
       "  <thead>\n",
       "    <tr style=\"text-align: right;\">\n",
       "      <th></th>\n",
       "      <th>Sex</th>\n",
       "      <th>Under 1</th>\n",
       "      <th>40-44</th>\n",
       "      <th>Disease</th>\n",
       "    </tr>\n",
       "  </thead>\n",
       "  <tbody>\n",
       "    <tr>\n",
       "      <th>0</th>\n",
       "      <td>Males</td>\n",
       "      <td>82</td>\n",
       "      <td>2045</td>\n",
       "      <td>Lypohomia</td>\n",
       "    </tr>\n",
       "    <tr>\n",
       "      <th>1</th>\n",
       "      <td>Females</td>\n",
       "      <td>73</td>\n",
       "      <td>4457</td>\n",
       "      <td>Lypohomia</td>\n",
       "    </tr>\n",
       "    <tr>\n",
       "      <th>2</th>\n",
       "      <td>Males</td>\n",
       "      <td>0</td>\n",
       "      <td>139</td>\n",
       "      <td>Lypohomia</td>\n",
       "    </tr>\n",
       "    <tr>\n",
       "      <th>3</th>\n",
       "      <td>Females</td>\n",
       "      <td>0</td>\n",
       "      <td>81</td>\n",
       "      <td>Lypohomia</td>\n",
       "    </tr>\n",
       "    <tr>\n",
       "      <th>4</th>\n",
       "      <td>Males</td>\n",
       "      <td>0</td>\n",
       "      <td>2</td>\n",
       "      <td>Lypohomia</td>\n",
       "    </tr>\n",
       "    <tr>\n",
       "      <th>...</th>\n",
       "      <td>...</td>\n",
       "      <td>...</td>\n",
       "      <td>...</td>\n",
       "      <td>...</td>\n",
       "    </tr>\n",
       "    <tr>\n",
       "      <th>453</th>\n",
       "      <td>Females</td>\n",
       "      <td>1</td>\n",
       "      <td>0</td>\n",
       "      <td>Lypohomia</td>\n",
       "    </tr>\n",
       "    <tr>\n",
       "      <th>454</th>\n",
       "      <td>Males</td>\n",
       "      <td>6</td>\n",
       "      <td>565</td>\n",
       "      <td>Lypohomia</td>\n",
       "    </tr>\n",
       "    <tr>\n",
       "      <th>455</th>\n",
       "      <td>Females</td>\n",
       "      <td>8</td>\n",
       "      <td>705</td>\n",
       "      <td>Lypohomia</td>\n",
       "    </tr>\n",
       "    <tr>\n",
       "      <th>456</th>\n",
       "      <td>Males</td>\n",
       "      <td>3</td>\n",
       "      <td>545</td>\n",
       "      <td>Lypohomia</td>\n",
       "    </tr>\n",
       "    <tr>\n",
       "      <th>457</th>\n",
       "      <td>Females</td>\n",
       "      <td>7</td>\n",
       "      <td>693</td>\n",
       "      <td>Lypohomia</td>\n",
       "    </tr>\n",
       "  </tbody>\n",
       "</table>\n",
       "<p>458 rows × 4 columns</p>\n",
       "</div>"
      ],
      "text/plain": [
       "         Sex  Under 1  40-44    Disease\n",
       "0      Males       82   2045  Lypohomia\n",
       "1    Females       73   4457  Lypohomia\n",
       "2      Males        0    139  Lypohomia\n",
       "3    Females        0     81  Lypohomia\n",
       "4      Males        0      2  Lypohomia\n",
       "..       ...      ...    ...        ...\n",
       "453  Females        1      0  Lypohomia\n",
       "454    Males        6    565  Lypohomia\n",
       "455  Females        8    705  Lypohomia\n",
       "456    Males        3    545  Lypohomia\n",
       "457  Females        7    693  Lypohomia\n",
       "\n",
       "[458 rows x 4 columns]"
      ]
     },
     "execution_count": 20,
     "metadata": {},
     "output_type": "execute_result"
    }
   ],
   "source": [
    "new_df['Disease'] = 'Lypohomia'\n",
    "new_df"
   ]
  },
  {
   "cell_type": "code",
   "execution_count": 21,
   "metadata": {},
   "outputs": [
    {
     "data": {
      "text/html": [
       "<div>\n",
       "<style scoped>\n",
       "    .dataframe tbody tr th:only-of-type {\n",
       "        vertical-align: middle;\n",
       "    }\n",
       "\n",
       "    .dataframe tbody tr th {\n",
       "        vertical-align: top;\n",
       "    }\n",
       "\n",
       "    .dataframe thead th {\n",
       "        text-align: right;\n",
       "    }\n",
       "</style>\n",
       "<table border=\"1\" class=\"dataframe\">\n",
       "  <thead>\n",
       "    <tr style=\"text-align: right;\">\n",
       "      <th></th>\n",
       "      <th>Sex</th>\n",
       "      <th>Under 1</th>\n",
       "      <th>40-44</th>\n",
       "      <th>Random_id</th>\n",
       "    </tr>\n",
       "  </thead>\n",
       "  <tbody>\n",
       "    <tr>\n",
       "      <th>0</th>\n",
       "      <td>Males</td>\n",
       "      <td>82</td>\n",
       "      <td>2045</td>\n",
       "      <td>0</td>\n",
       "    </tr>\n",
       "    <tr>\n",
       "      <th>1</th>\n",
       "      <td>Females</td>\n",
       "      <td>73</td>\n",
       "      <td>4457</td>\n",
       "      <td>1</td>\n",
       "    </tr>\n",
       "    <tr>\n",
       "      <th>2</th>\n",
       "      <td>Males</td>\n",
       "      <td>0</td>\n",
       "      <td>139</td>\n",
       "      <td>2</td>\n",
       "    </tr>\n",
       "    <tr>\n",
       "      <th>3</th>\n",
       "      <td>Females</td>\n",
       "      <td>0</td>\n",
       "      <td>81</td>\n",
       "      <td>3</td>\n",
       "    </tr>\n",
       "    <tr>\n",
       "      <th>4</th>\n",
       "      <td>Males</td>\n",
       "      <td>0</td>\n",
       "      <td>2</td>\n",
       "      <td>4</td>\n",
       "    </tr>\n",
       "    <tr>\n",
       "      <th>5</th>\n",
       "      <td>Females</td>\n",
       "      <td>0</td>\n",
       "      <td>4</td>\n",
       "      <td>5</td>\n",
       "    </tr>\n",
       "    <tr>\n",
       "      <th>6</th>\n",
       "      <td>Males</td>\n",
       "      <td>0</td>\n",
       "      <td>12</td>\n",
       "      <td>6</td>\n",
       "    </tr>\n",
       "    <tr>\n",
       "      <th>7</th>\n",
       "      <td>Females</td>\n",
       "      <td>0</td>\n",
       "      <td>7</td>\n",
       "      <td>7</td>\n",
       "    </tr>\n",
       "    <tr>\n",
       "      <th>8</th>\n",
       "      <td>Males</td>\n",
       "      <td>0</td>\n",
       "      <td>32</td>\n",
       "      <td>8</td>\n",
       "    </tr>\n",
       "    <tr>\n",
       "      <th>9</th>\n",
       "      <td>Females</td>\n",
       "      <td>0</td>\n",
       "      <td>19</td>\n",
       "      <td>9</td>\n",
       "    </tr>\n",
       "  </tbody>\n",
       "</table>\n",
       "</div>"
      ],
      "text/plain": [
       "       Sex  Under 1  40-44  Random_id\n",
       "0    Males       82   2045          0\n",
       "1  Females       73   4457          1\n",
       "2    Males        0    139          2\n",
       "3  Females        0     81          3\n",
       "4    Males        0      2          4\n",
       "5  Females        0      4          5\n",
       "6    Males        0     12          6\n",
       "7  Females        0      7          7\n",
       "8    Males        0     32          8\n",
       "9  Females        0     19          9"
      ]
     },
     "execution_count": 21,
     "metadata": {},
     "output_type": "execute_result"
    }
   ],
   "source": [
    "new_df2 = pd.DataFrame(df, columns= ['Sex', 'Under 1', '40-44', 'Random_id'])\n",
    "new_df2['Random_id'] = np.arange(new_df2.shape[0])\n",
    "new_df2.head(10)"
   ]
  },
  {
   "cell_type": "code",
   "execution_count": 22,
   "metadata": {},
   "outputs": [
    {
     "name": "stdout",
     "output_type": "stream",
     "text": [
      "Country\n",
      "china      1.9\n",
      "india      4.5\n",
      "usa       16.2\n",
      "brazil    21.8\n",
      "pak       34.2\n",
      "Name: Growth rate, dtype: float64 \n",
      "\n",
      "Country\n",
      "china      1.9\n",
      "india      4.5\n",
      "usa       16.2\n",
      "brazil    21.8\n",
      "pak       34.2\n",
      "eng        NaN\n",
      "Name: Growth rate, dtype: float64 \n",
      "\n",
      "Country\n",
      "china       1.9\n",
      "india       4.5\n",
      "malasya     0.0\n",
      "usa        16.2\n",
      "brazil     21.8\n",
      "pak        34.2\n",
      "eng         0.0\n",
      "Name: Growth rate, dtype: float64 \n",
      "\n"
     ]
    }
   ],
   "source": [
    "srs1 = pd.Series([1.9, 4.5, 16.2, 21.8, 34.2], index = ['china', 'india', 'usa', 'brazil', 'pak'])\n",
    "srs1.name = \"Growth rate\"\n",
    "srs1.index.name = \"Country\"\n",
    "print(srs1, \"\\n\")\n",
    "srs2 = srs1.reindex(['china', 'india', 'usa', 'brazil', 'pak', 'eng'])\n",
    "print(srs2, \"\\n\")\n",
    "# fill_value parameter fills every NaN value found ('eng') with 0 in thise case\n",
    "srs3 = srs1.reindex(['china', 'india', 'malasya', 'usa', 'brazil', 'pak', 'eng'], fill_value = 0)\n",
    "print(srs3, \"\\n\")"
   ]
  },
  {
   "cell_type": "code",
   "execution_count": 23,
   "metadata": {},
   "outputs": [
    {
     "name": "stdout",
     "output_type": "stream",
     "text": [
      "    c1  c2  c3  c4\n",
      "r1   0   1   2   3\n",
      "r2   4   5   6   7\n",
      "r3   8   9  10  11\n",
      "r4  12  13  14  15\n"
     ]
    }
   ],
   "source": [
    "arr2d = np.arange(16).reshape(4,4)\n",
    "df = pd.DataFrame(arr2d, index = ['r1', 'r2', 'r3', 'r4'], columns = ['c1', 'c2', 'c3', 'c4'])\n",
    "print(df)"
   ]
  },
  {
   "cell_type": "code",
   "execution_count": 24,
   "metadata": {},
   "outputs": [
    {
     "data": {
      "text/html": [
       "<div>\n",
       "<style scoped>\n",
       "    .dataframe tbody tr th:only-of-type {\n",
       "        vertical-align: middle;\n",
       "    }\n",
       "\n",
       "    .dataframe tbody tr th {\n",
       "        vertical-align: top;\n",
       "    }\n",
       "\n",
       "    .dataframe thead th {\n",
       "        text-align: right;\n",
       "    }\n",
       "</style>\n",
       "<table border=\"1\" class=\"dataframe\">\n",
       "  <thead>\n",
       "    <tr style=\"text-align: right;\">\n",
       "      <th></th>\n",
       "      <th>c1</th>\n",
       "      <th>c2</th>\n",
       "      <th>c3</th>\n",
       "      <th>c4</th>\n",
       "    </tr>\n",
       "  </thead>\n",
       "  <tbody>\n",
       "    <tr>\n",
       "      <th>r1</th>\n",
       "      <td>0.0</td>\n",
       "      <td>1.0</td>\n",
       "      <td>2.0</td>\n",
       "      <td>3.0</td>\n",
       "    </tr>\n",
       "    <tr>\n",
       "      <th>r2</th>\n",
       "      <td>4.0</td>\n",
       "      <td>5.0</td>\n",
       "      <td>6.0</td>\n",
       "      <td>7.0</td>\n",
       "    </tr>\n",
       "    <tr>\n",
       "      <th>r3</th>\n",
       "      <td>8.0</td>\n",
       "      <td>9.0</td>\n",
       "      <td>10.0</td>\n",
       "      <td>11.0</td>\n",
       "    </tr>\n",
       "    <tr>\n",
       "      <th>r4</th>\n",
       "      <td>12.0</td>\n",
       "      <td>13.0</td>\n",
       "      <td>14.0</td>\n",
       "      <td>15.0</td>\n",
       "    </tr>\n",
       "    <tr>\n",
       "      <th>r5</th>\n",
       "      <td>NaN</td>\n",
       "      <td>NaN</td>\n",
       "      <td>NaN</td>\n",
       "      <td>NaN</td>\n",
       "    </tr>\n",
       "  </tbody>\n",
       "</table>\n",
       "</div>"
      ],
      "text/plain": [
       "      c1    c2    c3    c4\n",
       "r1   0.0   1.0   2.0   3.0\n",
       "r2   4.0   5.0   6.0   7.0\n",
       "r3   8.0   9.0  10.0  11.0\n",
       "r4  12.0  13.0  14.0  15.0\n",
       "r5   NaN   NaN   NaN   NaN"
      ]
     },
     "execution_count": 24,
     "metadata": {},
     "output_type": "execute_result"
    }
   ],
   "source": [
    "df2 = df.reindex(['r1', 'r2', 'r3', 'r4', 'r5'])\n",
    "df2"
   ]
  },
  {
   "cell_type": "code",
   "execution_count": 25,
   "metadata": {},
   "outputs": [
    {
     "data": {
      "text/html": [
       "<div>\n",
       "<style scoped>\n",
       "    .dataframe tbody tr th:only-of-type {\n",
       "        vertical-align: middle;\n",
       "    }\n",
       "\n",
       "    .dataframe tbody tr th {\n",
       "        vertical-align: top;\n",
       "    }\n",
       "\n",
       "    .dataframe thead th {\n",
       "        text-align: right;\n",
       "    }\n",
       "</style>\n",
       "<table border=\"1\" class=\"dataframe\">\n",
       "  <thead>\n",
       "    <tr style=\"text-align: right;\">\n",
       "      <th></th>\n",
       "      <th>c1</th>\n",
       "      <th>c2</th>\n",
       "      <th>c3</th>\n",
       "      <th>c4</th>\n",
       "    </tr>\n",
       "  </thead>\n",
       "  <tbody>\n",
       "    <tr>\n",
       "      <th>r1</th>\n",
       "      <td>0.0</td>\n",
       "      <td>1.0</td>\n",
       "      <td>2.0</td>\n",
       "      <td>3.0</td>\n",
       "    </tr>\n",
       "    <tr>\n",
       "      <th>r2</th>\n",
       "      <td>4.0</td>\n",
       "      <td>5.0</td>\n",
       "      <td>6.0</td>\n",
       "      <td>7.0</td>\n",
       "    </tr>\n",
       "    <tr>\n",
       "      <th>r3</th>\n",
       "      <td>8.0</td>\n",
       "      <td>9.0</td>\n",
       "      <td>10.0</td>\n",
       "      <td>11.0</td>\n",
       "    </tr>\n",
       "    <tr>\n",
       "      <th>r4</th>\n",
       "      <td>12.0</td>\n",
       "      <td>13.0</td>\n",
       "      <td>14.0</td>\n",
       "      <td>15.0</td>\n",
       "    </tr>\n",
       "    <tr>\n",
       "      <th>r5</th>\n",
       "      <td>12.0</td>\n",
       "      <td>13.0</td>\n",
       "      <td>14.0</td>\n",
       "      <td>15.0</td>\n",
       "    </tr>\n",
       "  </tbody>\n",
       "</table>\n",
       "</div>"
      ],
      "text/plain": [
       "      c1    c2    c3    c4\n",
       "r1   0.0   1.0   2.0   3.0\n",
       "r2   4.0   5.0   6.0   7.0\n",
       "r3   8.0   9.0  10.0  11.0\n",
       "r4  12.0  13.0  14.0  15.0\n",
       "r5  12.0  13.0  14.0  15.0"
      ]
     },
     "execution_count": 25,
     "metadata": {},
     "output_type": "execute_result"
    }
   ],
   "source": [
    "#.ffill(axis = 0) fill last row (remaining NaN) with the last value from the row above\n",
    "df2.ffill(axis=0)"
   ]
  },
  {
   "cell_type": "code",
   "execution_count": 26,
   "metadata": {},
   "outputs": [
    {
     "data": {
      "text/html": [
       "<div>\n",
       "<style scoped>\n",
       "    .dataframe tbody tr th:only-of-type {\n",
       "        vertical-align: middle;\n",
       "    }\n",
       "\n",
       "    .dataframe tbody tr th {\n",
       "        vertical-align: top;\n",
       "    }\n",
       "\n",
       "    .dataframe thead th {\n",
       "        text-align: right;\n",
       "    }\n",
       "</style>\n",
       "<table border=\"1\" class=\"dataframe\">\n",
       "  <thead>\n",
       "    <tr style=\"text-align: right;\">\n",
       "      <th></th>\n",
       "      <th>c1</th>\n",
       "      <th>c2</th>\n",
       "      <th>c3</th>\n",
       "      <th>c4</th>\n",
       "    </tr>\n",
       "  </thead>\n",
       "  <tbody>\n",
       "    <tr>\n",
       "      <th>r1</th>\n",
       "      <td>0</td>\n",
       "      <td>1</td>\n",
       "      <td>2</td>\n",
       "      <td>3</td>\n",
       "    </tr>\n",
       "    <tr>\n",
       "      <th>r2</th>\n",
       "      <td>4</td>\n",
       "      <td>5</td>\n",
       "      <td>6</td>\n",
       "      <td>7</td>\n",
       "    </tr>\n",
       "    <tr>\n",
       "      <th>r3</th>\n",
       "      <td>8</td>\n",
       "      <td>9</td>\n",
       "      <td>10</td>\n",
       "      <td>11</td>\n",
       "    </tr>\n",
       "    <tr>\n",
       "      <th>r4</th>\n",
       "      <td>12</td>\n",
       "      <td>13</td>\n",
       "      <td>14</td>\n",
       "      <td>15</td>\n",
       "    </tr>\n",
       "  </tbody>\n",
       "</table>\n",
       "</div>"
      ],
      "text/plain": [
       "    c1  c2  c3  c4\n",
       "r1   0   1   2   3\n",
       "r2   4   5   6   7\n",
       "r3   8   9  10  11\n",
       "r4  12  13  14  15"
      ]
     },
     "execution_count": 26,
     "metadata": {},
     "output_type": "execute_result"
    }
   ],
   "source": [
    "df2 = df.reindex(columns=['c1', 'c2', 'c3', 'c4'])\n",
    "df2"
   ]
  },
  {
   "cell_type": "code",
   "execution_count": 27,
   "metadata": {},
   "outputs": [],
   "source": [
    "#fill forward fill series or df object for df the axis is passed as parameter to the function"
   ]
  },
  {
   "cell_type": "code",
   "execution_count": 28,
   "metadata": {},
   "outputs": [
    {
     "name": "stdout",
     "output_type": "stream",
     "text": [
      "Country\n",
      "china      1.9\n",
      "india      4.5\n",
      "usa       16.2\n",
      "brazil    21.8\n",
      "pak       34.2\n",
      "Name: Growth rate, dtype: float64 \n",
      "\n",
      "Country\n",
      "china      1.9\n",
      "india      4.5\n",
      "usa       16.2\n",
      "brazil    21.8\n",
      "pak       34.2\n",
      "eng       34.2\n",
      "spain     34.2\n",
      "Name: Growth rate, dtype: float64 \n",
      "\n",
      "Country\n",
      "china       1.9\n",
      "india       4.5\n",
      "malasya     0.0\n",
      "usa        16.2\n",
      "brazil     21.8\n",
      "pak        34.2\n",
      "eng         0.0\n",
      "Name: Growth rate, dtype: float64 \n",
      "\n"
     ]
    }
   ],
   "source": [
    "srs1 = pd.Series([1.9, 4.5, 16.2, 21.8, 34.2], index = ['china', 'india', 'usa', 'brazil', 'pak'])\n",
    "srs1.name = \"Growth rate\"\n",
    "srs1.index.name = \"Country\"\n",
    "print(srs1, \"\\n\")\n",
    "srs2 = srs1.reindex(['china', 'india', 'usa', 'brazil', 'pak', 'eng', 'spain'])\n",
    "#.ffill() by default (with no parameters) pick the last value to fill all the remaining rows\n",
    "print(srs2.ffill(), \"\\n\")\n",
    "srs3 = srs1.reindex(['china', 'india', 'malasya', 'usa', 'brazil', 'pak', 'eng'], fill_value = 0)\n",
    "print(srs3, \"\\n\")"
   ]
  },
  {
   "cell_type": "code",
   "execution_count": 29,
   "metadata": {},
   "outputs": [],
   "source": [
    "srs = pd.Series(np.arange(0,6,1), index = ['in1', 'in2', 'in3', 'in4', 'in5', 'in6'])"
   ]
  },
  {
   "cell_type": "code",
   "execution_count": 30,
   "metadata": {},
   "outputs": [
    {
     "data": {
      "text/plain": [
       "in1    0\n",
       "in2    1\n",
       "in3    2\n",
       "in4    3\n",
       "in5    4\n",
       "in6    5\n",
       "dtype: int64"
      ]
     },
     "execution_count": 30,
     "metadata": {},
     "output_type": "execute_result"
    }
   ],
   "source": [
    "srs"
   ]
  },
  {
   "cell_type": "code",
   "execution_count": 31,
   "metadata": {},
   "outputs": [
    {
     "data": {
      "text/plain": [
       "3"
      ]
     },
     "execution_count": 31,
     "metadata": {},
     "output_type": "execute_result"
    }
   ],
   "source": [
    "srs[3] #Picks the 4th element"
   ]
  },
  {
   "cell_type": "code",
   "execution_count": 32,
   "metadata": {},
   "outputs": [
    {
     "name": "stdout",
     "output_type": "stream",
     "text": [
      "in1    0\n",
      "in4    3\n",
      "dtype: int64\n"
     ]
    }
   ],
   "source": [
    "print(srs[['in1', 'in4']])"
   ]
  },
  {
   "cell_type": "code",
   "execution_count": 33,
   "metadata": {},
   "outputs": [
    {
     "data": {
      "text/plain": [
       "in5    4\n",
       "in6    5\n",
       "dtype: int64"
      ]
     },
     "execution_count": 33,
     "metadata": {},
     "output_type": "execute_result"
    }
   ],
   "source": [
    "srs[4:]"
   ]
  },
  {
   "cell_type": "code",
   "execution_count": 34,
   "metadata": {},
   "outputs": [
    {
     "data": {
      "text/plain": [
       "in5    4\n",
       "in6    5\n",
       "dtype: int64"
      ]
     },
     "execution_count": 34,
     "metadata": {},
     "output_type": "execute_result"
    }
   ],
   "source": [
    "srs[srs>3] #Gives me every a serie with every element with value > 2"
   ]
  },
  {
   "cell_type": "code",
   "execution_count": 35,
   "metadata": {},
   "outputs": [
    {
     "data": {
      "text/plain": [
       "in1    0\n",
       "in2    1\n",
       "in3    2\n",
       "in4    3\n",
       "in5    4\n",
       "in6    5\n",
       "dtype: int64"
      ]
     },
     "execution_count": 35,
     "metadata": {},
     "output_type": "execute_result"
    }
   ],
   "source": [
    "srs"
   ]
  },
  {
   "cell_type": "code",
   "execution_count": 36,
   "metadata": {},
   "outputs": [
    {
     "name": "stdout",
     "output_type": "stream",
     "text": [
      "in1    0\n",
      "in2    1\n",
      "in4    3\n",
      "in5    4\n",
      "in6    5\n",
      "dtype: int64\n"
     ]
    }
   ],
   "source": [
    "print(srs.drop('in3'))\n",
    "srs = srs.drop('in3') #return the same serie without 'in3' row"
   ]
  },
  {
   "cell_type": "code",
   "execution_count": 37,
   "metadata": {},
   "outputs": [
    {
     "data": {
      "text/plain": [
       "in1    0\n",
       "in2    1\n",
       "in4    3\n",
       "in5    4\n",
       "in6    5\n",
       "dtype: int64"
      ]
     },
     "execution_count": 37,
     "metadata": {},
     "output_type": "execute_result"
    }
   ],
   "source": [
    "srs"
   ]
  },
  {
   "cell_type": "code",
   "execution_count": 38,
   "metadata": {},
   "outputs": [
    {
     "data": {
      "text/html": [
       "<div>\n",
       "<style scoped>\n",
       "    .dataframe tbody tr th:only-of-type {\n",
       "        vertical-align: middle;\n",
       "    }\n",
       "\n",
       "    .dataframe tbody tr th {\n",
       "        vertical-align: top;\n",
       "    }\n",
       "\n",
       "    .dataframe thead th {\n",
       "        text-align: right;\n",
       "    }\n",
       "</style>\n",
       "<table border=\"1\" class=\"dataframe\">\n",
       "  <thead>\n",
       "    <tr style=\"text-align: right;\">\n",
       "      <th></th>\n",
       "      <th>c1</th>\n",
       "      <th>c2</th>\n",
       "      <th>c3</th>\n",
       "      <th>c4</th>\n",
       "    </tr>\n",
       "  </thead>\n",
       "  <tbody>\n",
       "    <tr>\n",
       "      <th>r1</th>\n",
       "      <td>0</td>\n",
       "      <td>1</td>\n",
       "      <td>2</td>\n",
       "      <td>3</td>\n",
       "    </tr>\n",
       "    <tr>\n",
       "      <th>r2</th>\n",
       "      <td>4</td>\n",
       "      <td>5</td>\n",
       "      <td>6</td>\n",
       "      <td>7</td>\n",
       "    </tr>\n",
       "    <tr>\n",
       "      <th>r3</th>\n",
       "      <td>8</td>\n",
       "      <td>9</td>\n",
       "      <td>10</td>\n",
       "      <td>11</td>\n",
       "    </tr>\n",
       "    <tr>\n",
       "      <th>r4</th>\n",
       "      <td>12</td>\n",
       "      <td>13</td>\n",
       "      <td>14</td>\n",
       "      <td>15</td>\n",
       "    </tr>\n",
       "  </tbody>\n",
       "</table>\n",
       "</div>"
      ],
      "text/plain": [
       "    c1  c2  c3  c4\n",
       "r1   0   1   2   3\n",
       "r2   4   5   6   7\n",
       "r3   8   9  10  11\n",
       "r4  12  13  14  15"
      ]
     },
     "execution_count": 38,
     "metadata": {},
     "output_type": "execute_result"
    }
   ],
   "source": [
    "#Selection indf\n",
    "df"
   ]
  },
  {
   "cell_type": "code",
   "execution_count": 39,
   "metadata": {},
   "outputs": [
    {
     "data": {
      "text/plain": [
       "r1     3\n",
       "r2     7\n",
       "r3    11\n",
       "r4    15\n",
       "Name: c4, dtype: int64"
      ]
     },
     "execution_count": 39,
     "metadata": {},
     "output_type": "execute_result"
    }
   ],
   "source": [
    "df['c4']"
   ]
  },
  {
   "cell_type": "code",
   "execution_count": 40,
   "metadata": {},
   "outputs": [
    {
     "data": {
      "text/plain": [
       "pandas.core.series.Series"
      ]
     },
     "execution_count": 40,
     "metadata": {},
     "output_type": "execute_result"
    }
   ],
   "source": [
    "type(df['c4']) #Each column of a DataFrame is a Serie"
   ]
  },
  {
   "cell_type": "code",
   "execution_count": 41,
   "metadata": {},
   "outputs": [
    {
     "data": {
      "text/html": [
       "<div>\n",
       "<style scoped>\n",
       "    .dataframe tbody tr th:only-of-type {\n",
       "        vertical-align: middle;\n",
       "    }\n",
       "\n",
       "    .dataframe tbody tr th {\n",
       "        vertical-align: top;\n",
       "    }\n",
       "\n",
       "    .dataframe thead th {\n",
       "        text-align: right;\n",
       "    }\n",
       "</style>\n",
       "<table border=\"1\" class=\"dataframe\">\n",
       "  <thead>\n",
       "    <tr style=\"text-align: right;\">\n",
       "      <th></th>\n",
       "      <th>c1</th>\n",
       "      <th>c2</th>\n",
       "      <th>c3</th>\n",
       "      <th>c4</th>\n",
       "    </tr>\n",
       "  </thead>\n",
       "  <tbody>\n",
       "    <tr>\n",
       "      <th>r2</th>\n",
       "      <td>4</td>\n",
       "      <td>5</td>\n",
       "      <td>6</td>\n",
       "      <td>7</td>\n",
       "    </tr>\n",
       "    <tr>\n",
       "      <th>r3</th>\n",
       "      <td>8</td>\n",
       "      <td>9</td>\n",
       "      <td>10</td>\n",
       "      <td>11</td>\n",
       "    </tr>\n",
       "    <tr>\n",
       "      <th>r4</th>\n",
       "      <td>12</td>\n",
       "      <td>13</td>\n",
       "      <td>14</td>\n",
       "      <td>15</td>\n",
       "    </tr>\n",
       "  </tbody>\n",
       "</table>\n",
       "</div>"
      ],
      "text/plain": [
       "    c1  c2  c3  c4\n",
       "r2   4   5   6   7\n",
       "r3   8   9  10  11\n",
       "r4  12  13  14  15"
      ]
     },
     "execution_count": 41,
     "metadata": {},
     "output_type": "execute_result"
    }
   ],
   "source": [
    "df[df['c4'] > 3] #Filters all the rows in which 'c4' value > 3"
   ]
  },
  {
   "cell_type": "code",
   "execution_count": 42,
   "metadata": {},
   "outputs": [
    {
     "data": {
      "text/html": [
       "<div>\n",
       "<style scoped>\n",
       "    .dataframe tbody tr th:only-of-type {\n",
       "        vertical-align: middle;\n",
       "    }\n",
       "\n",
       "    .dataframe tbody tr th {\n",
       "        vertical-align: top;\n",
       "    }\n",
       "\n",
       "    .dataframe thead th {\n",
       "        text-align: right;\n",
       "    }\n",
       "</style>\n",
       "<table border=\"1\" class=\"dataframe\">\n",
       "  <thead>\n",
       "    <tr style=\"text-align: right;\">\n",
       "      <th></th>\n",
       "      <th>c1</th>\n",
       "      <th>c2</th>\n",
       "      <th>c3</th>\n",
       "      <th>c4</th>\n",
       "    </tr>\n",
       "  </thead>\n",
       "  <tbody>\n",
       "    <tr>\n",
       "      <th>r1</th>\n",
       "      <td>0</td>\n",
       "      <td>1</td>\n",
       "      <td>2</td>\n",
       "      <td>3</td>\n",
       "    </tr>\n",
       "    <tr>\n",
       "      <th>r3</th>\n",
       "      <td>8</td>\n",
       "      <td>9</td>\n",
       "      <td>10</td>\n",
       "      <td>11</td>\n",
       "    </tr>\n",
       "    <tr>\n",
       "      <th>r4</th>\n",
       "      <td>12</td>\n",
       "      <td>13</td>\n",
       "      <td>14</td>\n",
       "      <td>15</td>\n",
       "    </tr>\n",
       "  </tbody>\n",
       "</table>\n",
       "</div>"
      ],
      "text/plain": [
       "    c1  c2  c3  c4\n",
       "r1   0   1   2   3\n",
       "r3   8   9  10  11\n",
       "r4  12  13  14  15"
      ]
     },
     "execution_count": 42,
     "metadata": {},
     "output_type": "execute_result"
    }
   ],
   "source": [
    "r = df.drop('r2')\n",
    "r"
   ]
  },
  {
   "cell_type": "code",
   "execution_count": 43,
   "metadata": {},
   "outputs": [
    {
     "data": {
      "text/html": [
       "<div>\n",
       "<style scoped>\n",
       "    .dataframe tbody tr th:only-of-type {\n",
       "        vertical-align: middle;\n",
       "    }\n",
       "\n",
       "    .dataframe tbody tr th {\n",
       "        vertical-align: top;\n",
       "    }\n",
       "\n",
       "    .dataframe thead th {\n",
       "        text-align: right;\n",
       "    }\n",
       "</style>\n",
       "<table border=\"1\" class=\"dataframe\">\n",
       "  <thead>\n",
       "    <tr style=\"text-align: right;\">\n",
       "      <th></th>\n",
       "      <th>c2</th>\n",
       "      <th>c3</th>\n",
       "      <th>c4</th>\n",
       "    </tr>\n",
       "  </thead>\n",
       "  <tbody>\n",
       "    <tr>\n",
       "      <th>r1</th>\n",
       "      <td>1</td>\n",
       "      <td>2</td>\n",
       "      <td>3</td>\n",
       "    </tr>\n",
       "    <tr>\n",
       "      <th>r3</th>\n",
       "      <td>9</td>\n",
       "      <td>10</td>\n",
       "      <td>11</td>\n",
       "    </tr>\n",
       "    <tr>\n",
       "      <th>r4</th>\n",
       "      <td>13</td>\n",
       "      <td>14</td>\n",
       "      <td>15</td>\n",
       "    </tr>\n",
       "  </tbody>\n",
       "</table>\n",
       "</div>"
      ],
      "text/plain": [
       "    c2  c3  c4\n",
       "r1   1   2   3\n",
       "r3   9  10  11\n",
       "r4  13  14  15"
      ]
     },
     "execution_count": 43,
     "metadata": {},
     "output_type": "execute_result"
    }
   ],
   "source": [
    "r.drop('c1', axis = 1) #To delete columns i must define the axis, to delete rows it's not necessary"
   ]
  },
  {
   "cell_type": "code",
   "execution_count": 44,
   "metadata": {},
   "outputs": [
    {
     "data": {
      "text/html": [
       "<div>\n",
       "<style scoped>\n",
       "    .dataframe tbody tr th:only-of-type {\n",
       "        vertical-align: middle;\n",
       "    }\n",
       "\n",
       "    .dataframe tbody tr th {\n",
       "        vertical-align: top;\n",
       "    }\n",
       "\n",
       "    .dataframe thead th {\n",
       "        text-align: right;\n",
       "    }\n",
       "</style>\n",
       "<table border=\"1\" class=\"dataframe\">\n",
       "  <thead>\n",
       "    <tr style=\"text-align: right;\">\n",
       "      <th></th>\n",
       "      <th>c1</th>\n",
       "      <th>c2</th>\n",
       "      <th>c3</th>\n",
       "      <th>c4</th>\n",
       "    </tr>\n",
       "  </thead>\n",
       "  <tbody>\n",
       "    <tr>\n",
       "      <th>r1</th>\n",
       "      <td>0</td>\n",
       "      <td>1</td>\n",
       "      <td>2</td>\n",
       "      <td>3</td>\n",
       "    </tr>\n",
       "    <tr>\n",
       "      <th>r3</th>\n",
       "      <td>8</td>\n",
       "      <td>9</td>\n",
       "      <td>10</td>\n",
       "      <td>11</td>\n",
       "    </tr>\n",
       "    <tr>\n",
       "      <th>r4</th>\n",
       "      <td>12</td>\n",
       "      <td>13</td>\n",
       "      <td>14</td>\n",
       "      <td>15</td>\n",
       "    </tr>\n",
       "  </tbody>\n",
       "</table>\n",
       "</div>"
      ],
      "text/plain": [
       "    c1  c2  c3  c4\n",
       "r1   0   1   2   3\n",
       "r3   8   9  10  11\n",
       "r4  12  13  14  15"
      ]
     },
     "execution_count": 44,
     "metadata": {},
     "output_type": "execute_result"
    }
   ],
   "source": [
    "r"
   ]
  },
  {
   "cell_type": "code",
   "execution_count": 45,
   "metadata": {},
   "outputs": [],
   "source": [
    "#numeric indexes\n",
    "srs1 = pd.Series([1,2,3], index = ['3', '2', '1'])"
   ]
  },
  {
   "cell_type": "code",
   "execution_count": 46,
   "metadata": {},
   "outputs": [
    {
     "data": {
      "text/plain": [
       "1    3\n",
       "2    2\n",
       "3    1\n",
       "dtype: int64"
      ]
     },
     "execution_count": 46,
     "metadata": {},
     "output_type": "execute_result"
    }
   ],
   "source": [
    "srs1.sort_index()"
   ]
  },
  {
   "cell_type": "code",
   "execution_count": 47,
   "metadata": {},
   "outputs": [
    {
     "data": {
      "text/plain": [
       "3    1\n",
       "2    2\n",
       "1    3\n",
       "dtype: int64"
      ]
     },
     "execution_count": 47,
     "metadata": {},
     "output_type": "execute_result"
    }
   ],
   "source": [
    "srs1"
   ]
  },
  {
   "cell_type": "code",
   "execution_count": 48,
   "metadata": {},
   "outputs": [
    {
     "name": "stdout",
     "output_type": "stream",
     "text": [
      "a    3\n",
      "b    1\n",
      "c    2\n",
      "dtype: int64\n"
     ]
    }
   ],
   "source": [
    "sr2 = pd.Series([1,2,3], index = ['b', 'c', 'a'])\n",
    "print(sr2.sort_index())"
   ]
  },
  {
   "cell_type": "code",
   "execution_count": 49,
   "metadata": {},
   "outputs": [],
   "source": [
    "sr23 = pd.Series(np.random.randn(5))"
   ]
  },
  {
   "cell_type": "code",
   "execution_count": 50,
   "metadata": {},
   "outputs": [
    {
     "data": {
      "text/plain": [
       "0   -1.889820\n",
       "1    1.435039\n",
       "2   -0.573840\n",
       "3    0.955341\n",
       "4    1.026971\n",
       "dtype: float64"
      ]
     },
     "execution_count": 50,
     "metadata": {},
     "output_type": "execute_result"
    }
   ],
   "source": [
    "sr23"
   ]
  },
  {
   "cell_type": "code",
   "execution_count": 51,
   "metadata": {},
   "outputs": [
    {
     "data": {
      "text/plain": [
       "0   -1.889820\n",
       "2   -0.573840\n",
       "3    0.955341\n",
       "4    1.026971\n",
       "1    1.435039\n",
       "dtype: float64"
      ]
     },
     "execution_count": 51,
     "metadata": {},
     "output_type": "execute_result"
    }
   ],
   "source": [
    "sr23.sort_values()"
   ]
  },
  {
   "cell_type": "code",
   "execution_count": 52,
   "metadata": {},
   "outputs": [
    {
     "data": {
      "text/plain": [
       "0    1.0\n",
       "1    5.0\n",
       "2    2.0\n",
       "3    3.0\n",
       "4    4.0\n",
       "dtype: float64"
      ]
     },
     "execution_count": 52,
     "metadata": {},
     "output_type": "execute_result"
    }
   ],
   "source": [
    "#Gives you a rank based on each value, index 4 is the biggest (5) because it has the biggest value (1.856274)\n",
    "sr23.rank()"
   ]
  },
  {
   "cell_type": "code",
   "execution_count": 53,
   "metadata": {},
   "outputs": [
    {
     "data": {
      "text/plain": [
       "0    False\n",
       "1    False\n",
       "2    False\n",
       "3     True\n",
       "dtype: bool"
      ]
     },
     "execution_count": 53,
     "metadata": {},
     "output_type": "execute_result"
    }
   ],
   "source": [
    "#dealing with missing values\n",
    "null_val = np.nan\n",
    "srs = pd.Series(['A', 'B', 'C', null_val])\n",
    "srs.isnull()"
   ]
  },
  {
   "cell_type": "code",
   "execution_count": 54,
   "metadata": {},
   "outputs": [
    {
     "data": {
      "text/plain": [
       "0      A\n",
       "1      B\n",
       "2      C\n",
       "3    NaN\n",
       "dtype: object"
      ]
     },
     "execution_count": 54,
     "metadata": {},
     "output_type": "execute_result"
    }
   ],
   "source": [
    "srs"
   ]
  },
  {
   "cell_type": "code",
   "execution_count": 55,
   "metadata": {},
   "outputs": [
    {
     "data": {
      "text/plain": [
       "0    A\n",
       "1    B\n",
       "2    C\n",
       "dtype: object"
      ]
     },
     "execution_count": 55,
     "metadata": {},
     "output_type": "execute_result"
    }
   ],
   "source": [
    "srs.dropna() #drop NaN"
   ]
  },
  {
   "cell_type": "code",
   "execution_count": 56,
   "metadata": {},
   "outputs": [],
   "source": [
    "srs[3] = 20 #Update the value of index 3 with 20, previously was Nan"
   ]
  },
  {
   "cell_type": "code",
   "execution_count": 57,
   "metadata": {},
   "outputs": [
    {
     "data": {
      "text/plain": [
       "0     A\n",
       "1     B\n",
       "2     C\n",
       "3    20\n",
       "dtype: object"
      ]
     },
     "execution_count": 57,
     "metadata": {},
     "output_type": "execute_result"
    }
   ],
   "source": [
    "srs"
   ]
  },
  {
   "cell_type": "code",
   "execution_count": 60,
   "metadata": {},
   "outputs": [
    {
     "name": "stdout",
     "output_type": "stream",
     "text": [
      "Original DataFrame: \n",
      "     0    1    2    3\n",
      "0    A    B    C    D\n",
      "1  NaN    B  NaN    D\n",
      "2  NaN    B    C  NaN\n",
      "3  NaN  NaN  NaN  NaN\n",
      "\n",
      "The dropna() method:\n",
      "   0  1  2  3\n",
      "0  A  B  C  D\n",
      "\n",
      "The dropna(how = all) mehtod: \n",
      "     0  1    2    3\n",
      "0    A  B    C    D\n",
      "1  NaN  B  NaN    D\n",
      "2  NaN  B    C  NaN\n",
      "\n",
      "The dropna(axis = 1) method: \n",
      "Empty DataFrame\n",
      "Columns: []\n",
      "Index: [0, 1, 2, 3]\n",
      "\n",
      "The dropna(tresh = n) mehtod: \n",
      "     0  1    2    3\n",
      "0    A  B    C    D\n",
      "1  NaN  B  NaN    D\n",
      "2  NaN  B    C  NaN\n"
     ]
    }
   ],
   "source": [
    "df = pd.DataFrame([\n",
    "    ['A', 'B', 'C', 'D'], \n",
    "    [null_val, 'B', null_val, 'D'], \n",
    "    [null_val, 'B', 'C', null_val],\n",
    "    [null_val, null_val, null_val, null_val]])\n",
    "\n",
    "print(\"Original DataFrame: \")\n",
    "print(df)\n",
    "#Dropping Null values\n",
    "print(\"\\nThe dropna() method:\")\n",
    "print(df.dropna()) #Delete every row with 1 or more NaN values\n",
    "\n",
    "print(\"\\nThe dropna(how = all) mehtod: \")\n",
    "print(df.dropna(how = 'all')) #Delete every row if it contains only NaN values (every element)\n",
    "\n",
    "print(\"\\nThe dropna(axis = 1) method: \")\n",
    "print(df.dropna(axis = 1)) #Delete every column with 1 or more NaN values\n",
    "\n",
    "print(\"\\nThe dropna(tresh = n) mehtod: \")\n",
    "print(df.dropna(thresh = 1))"
   ]
  },
  {
   "cell_type": "code",
   "execution_count": 61,
   "metadata": {},
   "outputs": [
    {
     "name": "stdout",
     "output_type": "stream",
     "text": [
      "Original DataFrame: \n",
      "     0    1    2    3\n",
      "0    A    B    C    D\n",
      "1  NaN    B  NaN    D\n",
      "2  NaN    B    C  NaN\n",
      "3  NaN  NaN  NaN  NaN\n",
      "\n",
      "The filled DataFrame:\n",
      "   0  1  2  3\n",
      "0  A  B  C  D\n",
      "1  M  B  M  D\n",
      "2  M  B  C  M\n",
      "3  M  M  M  M\n"
     ]
    }
   ],
   "source": [
    "print(\"Original DataFrame: \")\n",
    "print(df)\n",
    "#Fill the Null values\n",
    "print(\"\\nThe filled DataFrame:\")\n",
    "print(df.fillna('M')) #Delete every row with 1 or more NaN values"
   ]
  },
  {
   "cell_type": "code",
   "execution_count": 64,
   "metadata": {},
   "outputs": [
    {
     "name": "stdout",
     "output_type": "stream",
     "text": [
      "The DataFrame\n",
      "   A  B  C\n",
      "A  0  1  2\n",
      "B  3  4  5\n",
      "C  6  7  8\n",
      "\n",
      "The sum of each column: \n",
      "A     9\n",
      "B    12\n",
      "C    15\n",
      "dtype: int64\n",
      "\n",
      "The sum of each Row: \n",
      "A     3\n",
      "B    12\n",
      "C    21\n",
      "dtype: int64\n"
     ]
    }
   ],
   "source": [
    "df = pd.DataFrame(np.arange(9).reshape(3,3), index = ['A', 'B', 'C'], columns=['A', 'B', 'C'])\n",
    "print(\"The DataFrame\")\n",
    "print(df)\n",
    "\n",
    "print(\"\\nThe sum of each column: \")\n",
    "print(df.sum(axis = 0))\n",
    "\n",
    "print(\"\\nThe sum of each Row: \")\n",
    "print(df.sum(axis= 1))"
   ]
  },
  {
   "cell_type": "code",
   "execution_count": null,
   "metadata": {},
   "outputs": [],
   "source": []
  }
 ],
 "metadata": {
  "kernelspec": {
   "display_name": "Python 3",
   "language": "python",
   "name": "python3"
  },
  "language_info": {
   "codemirror_mode": {
    "name": "ipython",
    "version": 3
   },
   "file_extension": ".py",
   "mimetype": "text/x-python",
   "name": "python",
   "nbconvert_exporter": "python",
   "pygments_lexer": "ipython3",
   "version": "3.8.5"
  }
 },
 "nbformat": 4,
 "nbformat_minor": 4
}
